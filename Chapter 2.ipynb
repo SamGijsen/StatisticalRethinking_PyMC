{
 "cells": [
  {
   "cell_type": "markdown",
   "id": "7cf076f5",
   "metadata": {},
   "source": [
    "# Chapter 2\n",
    "\n",
    "https://github.com/pymc-devs/resources/blob/master/Rethinking_2/Chp_02.ipynb\n",
    "https://raw.githubusercontent.com/Booleans/statistical-rethinking/master/Statistical%20Rethinking%202nd%20Edition.pdf"
   ]
  },
  {
   "cell_type": "code",
   "execution_count": 2,
   "id": "51e8c60e",
   "metadata": {},
   "outputs": [
    {
     "name": "stderr",
     "output_type": "stream",
     "text": [
      "ERROR (theano.gpuarray): pygpu was configured but could not be imported or is too old (version 0.7 or higher required)\n",
      "NoneType: None\n"
     ]
    }
   ],
   "source": [
    "import arviz as az\n",
    "import matplotlib.pyplot as plt\n",
    "import numpy as np\n",
    "import pymc3 as pm\n",
    "import scipy.stats as stats\n"
   ]
  },
  {
   "cell_type": "code",
   "execution_count": 3,
   "id": "e546281b",
   "metadata": {},
   "outputs": [],
   "source": [
    "RANDOM_SEED = 8927\n",
    "np.random.seed(RANDOM_SEED)\n",
    "az.style.use(\"arviz-darkgrid\")"
   ]
  },
  {
   "cell_type": "code",
   "execution_count": 5,
   "id": "60104996",
   "metadata": {},
   "outputs": [
    {
     "data": {
      "text/plain": [
       "0.16406250000000006"
      ]
     },
     "execution_count": 5,
     "metadata": {},
     "output_type": "execute_result"
    }
   ],
   "source": [
    "stats.binom.pmf(6, n =9, p=0.5)"
   ]
  },
  {
   "cell_type": "markdown",
   "id": "dd494197",
   "metadata": {},
   "source": [
    "$ W \\sim Bino(N,p)$\n",
    "\n",
    "$p \\sim Uni(0,1)$\n",
    "\n",
    "$$\n",
    "\\begin{align}\n",
    "P(W,L,p) &= P(W,L \\vert p) P(p) \\\\\n",
    "P(W,L,p) &= P(p \\vert W,L) P(W,L) \\\\ \\\\\n",
    "P(W,L \\vert p) P(p) &= P(p \\vert W,L) P(W,L) \\\\\n",
    "P(p \\vert W,L) &= \\frac{P(W,L \\vert p) P(p)}{P(W,L)}\n",
    "\\end{align}\n",
    "$$"
   ]
  }
 ],
 "metadata": {
  "kernelspec": {
   "display_name": "Python 3",
   "language": "python",
   "name": "python3"
  },
  "language_info": {
   "codemirror_mode": {
    "name": "ipython",
    "version": 3
   },
   "file_extension": ".py",
   "mimetype": "text/x-python",
   "name": "python",
   "nbconvert_exporter": "python",
   "pygments_lexer": "ipython3",
   "version": "3.9.7"
  }
 },
 "nbformat": 4,
 "nbformat_minor": 5
}
